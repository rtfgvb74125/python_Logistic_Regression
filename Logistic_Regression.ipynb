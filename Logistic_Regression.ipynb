{
 "cells": [
  {
   "cell_type": "code",
   "execution_count": 18,
   "metadata": {},
   "outputs": [],
   "source": [
    "import numpy as np\n",
    "import pandas as pd\n",
    "import matplotlib.pyplot as plt\n",
    "from sklearn import linear_model\n",
    "\n",
    "from sklearn import datasets\n",
    "from sklearn.model_selection import train_test_split"
   ]
  },
  {
   "cell_type": "markdown",
   "metadata": {},
   "source": [
    "# 平均一天喝幾杯含糖飲料易得糖尿病"
   ]
  },
  {
   "cell_type": "code",
   "execution_count": 3,
   "metadata": {},
   "outputs": [],
   "source": [
    "data = pd.read_csv('LogR_data.csv')"
   ]
  },
  {
   "cell_type": "code",
   "execution_count": 4,
   "metadata": {},
   "outputs": [
    {
     "data": {
      "text/html": [
       "<div>\n",
       "<style scoped>\n",
       "    .dataframe tbody tr th:only-of-type {\n",
       "        vertical-align: middle;\n",
       "    }\n",
       "\n",
       "    .dataframe tbody tr th {\n",
       "        vertical-align: top;\n",
       "    }\n",
       "\n",
       "    .dataframe thead th {\n",
       "        text-align: right;\n",
       "    }\n",
       "</style>\n",
       "<table border=\"1\" class=\"dataframe\">\n",
       "  <thead>\n",
       "    <tr style=\"text-align: right;\">\n",
       "      <th></th>\n",
       "      <th>Name</th>\n",
       "      <th>Amount</th>\n",
       "      <th>Result</th>\n",
       "    </tr>\n",
       "  </thead>\n",
       "  <tbody>\n",
       "    <tr>\n",
       "      <th>0</th>\n",
       "      <td>Jack</td>\n",
       "      <td>0</td>\n",
       "      <td>0</td>\n",
       "    </tr>\n",
       "    <tr>\n",
       "      <th>1</th>\n",
       "      <td>Amy</td>\n",
       "      <td>1</td>\n",
       "      <td>1</td>\n",
       "    </tr>\n",
       "    <tr>\n",
       "      <th>2</th>\n",
       "      <td>John</td>\n",
       "      <td>3</td>\n",
       "      <td>1</td>\n",
       "    </tr>\n",
       "    <tr>\n",
       "      <th>3</th>\n",
       "      <td>Anna</td>\n",
       "      <td>2</td>\n",
       "      <td>1</td>\n",
       "    </tr>\n",
       "    <tr>\n",
       "      <th>4</th>\n",
       "      <td>Nick</td>\n",
       "      <td>1</td>\n",
       "      <td>0</td>\n",
       "    </tr>\n",
       "    <tr>\n",
       "      <th>5</th>\n",
       "      <td>Jocelyn</td>\n",
       "      <td>1</td>\n",
       "      <td>0</td>\n",
       "    </tr>\n",
       "    <tr>\n",
       "      <th>6</th>\n",
       "      <td>Bob</td>\n",
       "      <td>0</td>\n",
       "      <td>0</td>\n",
       "    </tr>\n",
       "    <tr>\n",
       "      <th>7</th>\n",
       "      <td>Candy</td>\n",
       "      <td>0</td>\n",
       "      <td>1</td>\n",
       "    </tr>\n",
       "    <tr>\n",
       "      <th>8</th>\n",
       "      <td>Lily</td>\n",
       "      <td>1</td>\n",
       "      <td>0</td>\n",
       "    </tr>\n",
       "    <tr>\n",
       "      <th>9</th>\n",
       "      <td>Grace</td>\n",
       "      <td>0</td>\n",
       "      <td>0</td>\n",
       "    </tr>\n",
       "    <tr>\n",
       "      <th>10</th>\n",
       "      <td>Jason</td>\n",
       "      <td>2</td>\n",
       "      <td>1</td>\n",
       "    </tr>\n",
       "    <tr>\n",
       "      <th>11</th>\n",
       "      <td>Bryan</td>\n",
       "      <td>3</td>\n",
       "      <td>1</td>\n",
       "    </tr>\n",
       "    <tr>\n",
       "      <th>12</th>\n",
       "      <td>Ryan</td>\n",
       "      <td>3</td>\n",
       "      <td>1</td>\n",
       "    </tr>\n",
       "    <tr>\n",
       "      <th>13</th>\n",
       "      <td>Tina</td>\n",
       "      <td>2</td>\n",
       "      <td>0</td>\n",
       "    </tr>\n",
       "    <tr>\n",
       "      <th>14</th>\n",
       "      <td>Jane</td>\n",
       "      <td>2</td>\n",
       "      <td>1</td>\n",
       "    </tr>\n",
       "    <tr>\n",
       "      <th>15</th>\n",
       "      <td>Alex</td>\n",
       "      <td>0</td>\n",
       "      <td>0</td>\n",
       "    </tr>\n",
       "    <tr>\n",
       "      <th>16</th>\n",
       "      <td>Yoyo</td>\n",
       "      <td>2</td>\n",
       "      <td>1</td>\n",
       "    </tr>\n",
       "    <tr>\n",
       "      <th>17</th>\n",
       "      <td>Alice</td>\n",
       "      <td>3</td>\n",
       "      <td>1</td>\n",
       "    </tr>\n",
       "    <tr>\n",
       "      <th>18</th>\n",
       "      <td>Frank</td>\n",
       "      <td>2</td>\n",
       "      <td>0</td>\n",
       "    </tr>\n",
       "    <tr>\n",
       "      <th>19</th>\n",
       "      <td>Boss</td>\n",
       "      <td>3</td>\n",
       "      <td>0</td>\n",
       "    </tr>\n",
       "  </tbody>\n",
       "</table>\n",
       "</div>"
      ],
      "text/plain": [
       "       Name  Amount  Result\n",
       "0      Jack       0       0\n",
       "1       Amy       1       1\n",
       "2      John       3       1\n",
       "3      Anna       2       1\n",
       "4      Nick       1       0\n",
       "5   Jocelyn       1       0\n",
       "6       Bob       0       0\n",
       "7     Candy       0       1\n",
       "8      Lily       1       0\n",
       "9     Grace       0       0\n",
       "10    Jason       2       1\n",
       "11    Bryan       3       1\n",
       "12     Ryan       3       1\n",
       "13     Tina       2       0\n",
       "14     Jane       2       1\n",
       "15     Alex       0       0\n",
       "16     Yoyo       2       1\n",
       "17    Alice       3       1\n",
       "18    Frank       2       0\n",
       "19     Boss       3       0"
      ]
     },
     "execution_count": 4,
     "metadata": {},
     "output_type": "execute_result"
    }
   ],
   "source": [
    "data"
   ]
  },
  {
   "cell_type": "code",
   "execution_count": 6,
   "metadata": {},
   "outputs": [],
   "source": [
    "#平均一天喝飲料量\n",
    "X = data['Amount'].values\n",
    "#是否得糖尿病\n",
    "y = data['Result'].values"
   ]
  },
  {
   "cell_type": "code",
   "execution_count": 7,
   "metadata": {},
   "outputs": [
    {
     "data": {
      "text/plain": [
       "(20,)"
      ]
     },
     "execution_count": 7,
     "metadata": {},
     "output_type": "execute_result"
    }
   ],
   "source": [
    "X.shape"
   ]
  },
  {
   "cell_type": "code",
   "execution_count": 8,
   "metadata": {},
   "outputs": [],
   "source": [
    "X = X.reshape(-1,1)"
   ]
  },
  {
   "cell_type": "markdown",
   "metadata": {},
   "source": [
    "# 建模"
   ]
  },
  {
   "cell_type": "code",
   "execution_count": 9,
   "metadata": {},
   "outputs": [
    {
     "data": {
      "text/plain": [
       "LogisticRegression(C=1.0, class_weight=None, dual=False, fit_intercept=True,\n",
       "                   intercept_scaling=1, l1_ratio=None, max_iter=100,\n",
       "                   multi_class='auto', n_jobs=None, penalty='l2',\n",
       "                   random_state=None, solver='lbfgs', tol=0.0001, verbose=0,\n",
       "                   warm_start=False)"
      ]
     },
     "execution_count": 9,
     "metadata": {},
     "output_type": "execute_result"
    }
   ],
   "source": [
    "model = linear_model.LogisticRegression()\n",
    "model.fit(X,y)"
   ]
  },
  {
   "cell_type": "code",
   "execution_count": 12,
   "metadata": {},
   "outputs": [
    {
     "data": {
      "text/plain": [
       "array([0, 0, 1, 1], dtype=int64)"
      ]
     },
     "execution_count": 12,
     "metadata": {},
     "output_type": "execute_result"
    }
   ],
   "source": [
    "model.predict([[0],[1],[2],[3]])"
   ]
  },
  {
   "cell_type": "code",
   "execution_count": 15,
   "metadata": {},
   "outputs": [
    {
     "data": {
      "text/plain": [
       "array([[0],\n",
       "       [1],\n",
       "       [3],\n",
       "       [2],\n",
       "       [1],\n",
       "       [1],\n",
       "       [0],\n",
       "       [0],\n",
       "       [1],\n",
       "       [0],\n",
       "       [2],\n",
       "       [3],\n",
       "       [3],\n",
       "       [2],\n",
       "       [2],\n",
       "       [0],\n",
       "       [2],\n",
       "       [3],\n",
       "       [2],\n",
       "       [3]], dtype=int64)"
      ]
     },
     "execution_count": 15,
     "metadata": {},
     "output_type": "execute_result"
    }
   ],
   "source": [
    "X"
   ]
  },
  {
   "cell_type": "code",
   "execution_count": 14,
   "metadata": {},
   "outputs": [
    {
     "data": {
      "text/plain": [
       "array([[0.78616997, 0.21383003],\n",
       "       [0.61473154, 0.38526846],\n",
       "       [0.23107565, 0.76892435],\n",
       "       [0.40914498, 0.59085502],\n",
       "       [0.61473154, 0.38526846],\n",
       "       [0.61473154, 0.38526846],\n",
       "       [0.78616997, 0.21383003],\n",
       "       [0.78616997, 0.21383003],\n",
       "       [0.61473154, 0.38526846],\n",
       "       [0.78616997, 0.21383003],\n",
       "       [0.40914498, 0.59085502],\n",
       "       [0.23107565, 0.76892435],\n",
       "       [0.23107565, 0.76892435],\n",
       "       [0.40914498, 0.59085502],\n",
       "       [0.40914498, 0.59085502],\n",
       "       [0.78616997, 0.21383003],\n",
       "       [0.40914498, 0.59085502],\n",
       "       [0.23107565, 0.76892435],\n",
       "       [0.40914498, 0.59085502],\n",
       "       [0.23107565, 0.76892435]])"
      ]
     },
     "execution_count": 14,
     "metadata": {},
     "output_type": "execute_result"
    }
   ],
   "source": [
    "#預測輸入資料分類機率，第一筆資料輸入分為0的機率是0.78616997，分為1的機率是0.21383003\n",
    "model.predict_proba(X)"
   ]
  },
  {
   "cell_type": "code",
   "execution_count": 16,
   "metadata": {},
   "outputs": [
    {
     "data": {
      "text/plain": [
       "0.75"
      ]
     },
     "execution_count": 16,
     "metadata": {},
     "output_type": "execute_result"
    }
   ],
   "source": [
    "model.score(X,y)"
   ]
  },
  {
   "cell_type": "markdown",
   "metadata": {},
   "source": [
    "# 多元分類\n",
    "拆成兩兩分類之後再綜合起來就可完成多元分類，以鳶尾花為例，先將1與2,3分開，再將2與1,3獨立，在獨立出3，最後在合併。"
   ]
  },
  {
   "cell_type": "code",
   "execution_count": 19,
   "metadata": {},
   "outputs": [],
   "source": [
    "iris = datasets.load_iris()"
   ]
  },
  {
   "cell_type": "code",
   "execution_count": 20,
   "metadata": {},
   "outputs": [],
   "source": [
    "X = iris.data\n",
    "y = iris.target"
   ]
  },
  {
   "cell_type": "code",
   "execution_count": 22,
   "metadata": {},
   "outputs": [],
   "source": [
    "X_train,X_test,y_train,y_test=train_test_split(X,y,test_size=0.3)"
   ]
  },
  {
   "cell_type": "code",
   "execution_count": 23,
   "metadata": {},
   "outputs": [],
   "source": [
    "model = linear_model.LogisticRegression()"
   ]
  },
  {
   "cell_type": "code",
   "execution_count": 24,
   "metadata": {},
   "outputs": [
    {
     "data": {
      "text/plain": [
       "LogisticRegression(C=1.0, class_weight=None, dual=False, fit_intercept=True,\n",
       "                   intercept_scaling=1, l1_ratio=None, max_iter=100,\n",
       "                   multi_class='auto', n_jobs=None, penalty='l2',\n",
       "                   random_state=None, solver='lbfgs', tol=0.0001, verbose=0,\n",
       "                   warm_start=False)"
      ]
     },
     "execution_count": 24,
     "metadata": {},
     "output_type": "execute_result"
    }
   ],
   "source": [
    "model.fit(X_train,y_train)"
   ]
  },
  {
   "cell_type": "code",
   "execution_count": 25,
   "metadata": {},
   "outputs": [
    {
     "data": {
      "text/plain": [
       "array([0, 2, 2, 1, 1, 0, 0, 1, 1, 0, 0, 2, 1, 0, 0, 0, 0, 1, 2, 0, 2, 1,\n",
       "       2, 1, 1, 1, 0, 1, 2, 1, 0, 2, 0, 0, 1, 0, 2, 1, 0, 2, 0, 0, 0, 1,\n",
       "       1])"
      ]
     },
     "execution_count": 25,
     "metadata": {},
     "output_type": "execute_result"
    }
   ],
   "source": [
    "model.predict(X_test)"
   ]
  },
  {
   "cell_type": "code",
   "execution_count": 26,
   "metadata": {
    "scrolled": true
   },
   "outputs": [
    {
     "data": {
      "text/plain": [
       "array([[9.64822748e-01, 3.51770907e-02, 1.61276755e-07],\n",
       "       [1.22613175e-05, 1.58981127e-02, 9.84089626e-01],\n",
       "       [1.50426758e-05, 2.94569390e-02, 9.70528018e-01],\n",
       "       [2.33351549e-02, 8.92807598e-01, 8.38572469e-02],\n",
       "       [3.78742699e-03, 7.65456471e-01, 2.30756102e-01],\n",
       "       [9.46806948e-01, 5.31921323e-02, 9.19420133e-07],\n",
       "       [9.78464497e-01, 2.15354561e-02, 4.66677810e-08],\n",
       "       [1.72320003e-02, 8.16059812e-01, 1.66708187e-01],\n",
       "       [2.52646966e-02, 9.25368750e-01, 4.93665539e-02],\n",
       "       [9.56595588e-01, 4.34042630e-02, 1.48982380e-07],\n",
       "       [9.66190296e-01, 3.38095841e-02, 1.19495485e-07],\n",
       "       [7.07081557e-06, 1.75807091e-02, 9.82412220e-01],\n",
       "       [3.41256800e-03, 5.10716394e-01, 4.85871038e-01],\n",
       "       [9.67566602e-01, 3.24333096e-02, 8.80717342e-08],\n",
       "       [9.69715897e-01, 3.02840392e-02, 6.35066748e-08],\n",
       "       [9.35419984e-01, 6.45797392e-02, 2.77298751e-07],\n",
       "       [9.80667314e-01, 1.93326124e-02, 7.35497376e-08],\n",
       "       [1.15560957e-03, 5.54708214e-01, 4.44136177e-01],\n",
       "       [3.48503423e-04, 1.88964239e-01, 8.10687258e-01],\n",
       "       [9.29013335e-01, 7.09862702e-02, 3.94673806e-07],\n",
       "       [2.26827203e-04, 1.99690941e-01, 8.00082232e-01],\n",
       "       [3.52890836e-03, 8.49426319e-01, 1.47044773e-01],\n",
       "       [6.49820902e-04, 3.45345278e-01, 6.54004901e-01],\n",
       "       [1.37061713e-02, 9.74174764e-01, 1.21190644e-02],\n",
       "       [2.81754334e-02, 9.33306622e-01, 3.85179450e-02],\n",
       "       [3.83160524e-02, 9.22350252e-01, 3.93336952e-02],\n",
       "       [9.59565208e-01, 4.04346090e-02, 1.82528334e-07],\n",
       "       [2.76908660e-01, 7.21931601e-01, 1.15973920e-03],\n",
       "       [1.11205728e-03, 4.76101805e-01, 5.22786138e-01],\n",
       "       [1.73760534e-01, 8.24155541e-01, 2.08392506e-03],\n",
       "       [9.83340744e-01, 1.66592194e-02, 3.70476509e-08],\n",
       "       [2.18149698e-04, 3.29859777e-01, 6.69922073e-01],\n",
       "       [9.66221556e-01, 3.37783253e-02, 1.19183650e-07],\n",
       "       [9.53446198e-01, 4.65535215e-02, 2.80840226e-07],\n",
       "       [1.35097176e-02, 7.27836135e-01, 2.58654147e-01],\n",
       "       [9.87367924e-01, 1.26320629e-02, 1.27470624e-08],\n",
       "       [2.23201995e-03, 4.52591025e-01, 5.45176955e-01],\n",
       "       [5.07724860e-03, 8.80422178e-01, 1.14500574e-01],\n",
       "       [9.41658482e-01, 5.83410766e-02, 4.41285612e-07],\n",
       "       [1.44920740e-04, 9.14957740e-02, 9.08359305e-01],\n",
       "       [9.75565483e-01, 2.44344490e-02, 6.82105051e-08],\n",
       "       [9.74147838e-01, 2.58519960e-02, 1.65946273e-07],\n",
       "       [9.58984308e-01, 4.10153651e-02, 3.27101056e-07],\n",
       "       [1.04718548e-03, 6.24961033e-01, 3.73991782e-01],\n",
       "       [4.17636129e-03, 8.08551210e-01, 1.87272428e-01]])"
      ]
     },
     "execution_count": 26,
     "metadata": {},
     "output_type": "execute_result"
    }
   ],
   "source": [
    "model.predict_proba(X_test)"
   ]
  },
  {
   "cell_type": "code",
   "execution_count": 28,
   "metadata": {},
   "outputs": [
    {
     "data": {
      "text/plain": [
       "0.9809523809523809"
      ]
     },
     "execution_count": 28,
     "metadata": {},
     "output_type": "execute_result"
    }
   ],
   "source": [
    "model.score(X_train,y_train)"
   ]
  },
  {
   "cell_type": "code",
   "execution_count": 29,
   "metadata": {},
   "outputs": [
    {
     "data": {
      "text/plain": [
       "0.8888888888888888"
      ]
     },
     "execution_count": 29,
     "metadata": {},
     "output_type": "execute_result"
    }
   ],
   "source": [
    "model.score(X_test,y_test)"
   ]
  }
 ],
 "metadata": {
  "kernelspec": {
   "display_name": "Python 3",
   "language": "python",
   "name": "python3"
  },
  "language_info": {
   "codemirror_mode": {
    "name": "ipython",
    "version": 3
   },
   "file_extension": ".py",
   "mimetype": "text/x-python",
   "name": "python",
   "nbconvert_exporter": "python",
   "pygments_lexer": "ipython3",
   "version": "3.7.6"
  }
 },
 "nbformat": 4,
 "nbformat_minor": 4
}
